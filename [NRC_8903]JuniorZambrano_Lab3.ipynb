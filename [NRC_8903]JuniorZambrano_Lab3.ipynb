{
 "cells": [
  {
   "cell_type": "markdown",
   "id": "f4d77bc8",
   "metadata": {},
   "source": [
    "# Linear Regression"
   ]
  },
  {
   "cell_type": "code",
   "execution_count": 11,
   "id": "3925f83f",
   "metadata": {},
   "outputs": [],
   "source": [
    "'''Se importa las librerías y módulos a utilizar'''\n",
    "\n",
    "import matplotlib.pyplot as plt\n",
    "from scipy import stats\n",
    "import numpy as np\n",
    "\n",
    "%matplotlib notebook\n",
    "%matplotlib inline"
   ]
  },
  {
   "cell_type": "code",
   "execution_count": 20,
   "id": "507a047f",
   "metadata": {
    "scrolled": true
   },
   "outputs": [],
   "source": [
    "'''Función para las variables randómicas 3''' \n",
    "    \n",
    "'''Generador randómico'''\n",
    "rng = np.random.default_rng()  \n",
    "    \n",
    "'''valores de x'''\n",
    "x = rng.random(35)     \n",
    "    \n",
    "'''valores de y'''\n",
    "y = 1.9*x + rng.random(35)   \n",
    "    "
   ]
  },
  {
   "cell_type": "code",
   "execution_count": 23,
   "id": "6a540fa8",
   "metadata": {},
   "outputs": [],
   "source": [
    "'''Función para calcular una regresión lineal por mínimos cuadrados para dos conjuntos de datos'''\n",
    "\n",
    "slope, intercept, r, p, std_err = stats.linregress(x, y)\n"
   ]
  },
  {
   "cell_type": "code",
   "execution_count": 24,
   "id": "4e0d4169",
   "metadata": {},
   "outputs": [
    {
     "data": {
      "text/plain": [
       "array([1.71515953, 2.2681536 , 0.90241855, 1.89177639, 0.74153114,\n",
       "       1.29550319, 0.87204446, 1.26689151, 1.3076313 , 1.47385424,\n",
       "       2.02419863, 0.62306483, 2.19021559, 1.98264997, 0.7201039 ,\n",
       "       1.18330542, 0.83451843, 1.86810504, 1.44291859, 1.85014014,\n",
       "       0.66894575, 1.06380616, 0.88072941, 0.97769998, 1.35795116,\n",
       "       1.91625511, 1.37663237, 2.27088976, 0.68939999, 0.93635718,\n",
       "       1.38433211, 0.90593326, 2.26729532, 1.14414556, 1.70282241])"
      ]
     },
     "execution_count": 24,
     "metadata": {},
     "output_type": "execute_result"
    }
   ],
   "source": [
    "'''Función auxiliar que utiliza la pendiente y el intercepto calculados para devolver un nuevo valor'''\n",
    "\n",
    "def fitted_value(x):\n",
    "    return slope * x + intercept\n",
    "fitted_value(x)"
   ]
  },
  {
   "cell_type": "code",
   "execution_count": 25,
   "id": "2b0a39fc",
   "metadata": {},
   "outputs": [],
   "source": [
    "def graficaRegresion(x,y):\n",
    "    \n",
    "    '''Realiza el gráfico de dispersión original'''\n",
    "    plt.plot(x, y, '*', label='original data')\n",
    "    \n",
    "    R'''ealiza la línea o regresión lineal'''\n",
    "    plt.plot(x, new_values, 'pink', label='fitted line')   \n",
    "    plt.legend()\n"
   ]
  },
  {
   "cell_type": "code",
   "execution_count": 30,
   "id": "e12c8201",
   "metadata": {},
   "outputs": [
    {
     "data": {
      "image/png": "[encoded data removed]",
      "text/plain": [
       "<Figure size 432x288 with 1 Axes>"
      ]
     },
     "metadata": {
      "needs_background": "light"
     },
     "output_type": "display_data"
    }
   ],
   "source": [
    "'''Función auxiliar que utiliza la pendiente y el intercepto calculados para devolver un nuevo valor'''\n",
    "\n",
    "fitted_value(x)    \n",
    "    \n",
    "'''Se usa para el cálculo los valores ajustados para el eje y utilizando la función de ayuda'''\n",
    "\n",
    "new_values = list(map(fitted_value, x))     \n",
    "    \n",
    "'''Se manda a mostrar la gráfica'''\n",
    "graficaRegresion(x,y)      \n",
    "    "
   ]
  },
  {
   "cell_type": "code",
   "execution_count": null,
   "id": "a73b9044",
   "metadata": {},
   "outputs": [],
   "source": []
  }
 ],
 "metadata": {
  "kernelspec": {
   "display_name": "Python 3 (ipykernel)",
   "language": "python",
   "name": "python3"
  },
  "language_info": {
   "codemirror_mode": {
    "name": "ipython",
    "version": 3
   },
   "file_extension": ".py",
   "mimetype": "text/x-python",
   "name": "python",
   "nbconvert_exporter": "python",
   "pygments_lexer": "ipython3",
   "version": "3.9.12"
  }
 },
 "nbformat": 4,
 "nbformat_minor": 5
}

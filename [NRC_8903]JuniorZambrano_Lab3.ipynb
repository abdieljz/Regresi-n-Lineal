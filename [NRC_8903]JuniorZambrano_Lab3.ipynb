{
 "cells": [
  {
   "cell_type": "markdown",
   "id": "38bcb30b",
   "metadata": {},
   "source": [
    "# Linear Regression"
   ]
  },
  {
   "cell_type": "code",
   "execution_count": 31,
   "id": "e799eecd",
   "metadata": {},
   "outputs": [],
   "source": [
    "'''Se importa las librerías y módulos a utilizar'''\n",
    "\n",
    "import matplotlib.pyplot as plt\n",
    "from scipy import stats\n",
    "import numpy as np\n",
    "\n",
    "%matplotlib notebook\n",
    "%matplotlib inline"
   ]
  },
  {
   "cell_type": "code",
   "execution_count": 42,
   "id": "5231bdd8",
   "metadata": {},
   "outputs": [],
   "source": [
    "'''Función para las variables randómicas 3''' \n",
    "    \n",
    "'''Generador randómico'''\n",
    "rng = np.random.default_rng()  \n",
    "    \n",
    "'''valores de x'''\n",
    "x = rng.random(45)     \n",
    "    \n",
    "'''valores de y'''\n",
    "y = 1.8*x + rng.random(45)   "
   ]
  },
  {
   "cell_type": "code",
   "execution_count": 43,
   "id": "30f0c2e6",
   "metadata": {},
   "outputs": [],
   "source": [
    "'''Función para calcular una regresión lineal por mínimos cuadrados para dos conjuntos de datos'''\n",
    "\n",
    "slope, intercept, r, p, std_err = stats.linregress(x, y)"
   ]
  },
  {
   "cell_type": "code",
   "execution_count": 44,
   "id": "1f59b343",
   "metadata": {},
   "outputs": [
    {
     "data": {
      "text/plain": [
       "array([1.2876819 , 0.83679654, 1.5350946 , 1.87261581, 1.8114231 ,\n",
       "       2.14268267, 1.52255218, 1.10751951, 2.02100368, 1.18203821,\n",
       "       1.06665724, 2.01904034, 1.77413712, 1.91007809, 2.1402811 ,\n",
       "       1.60385454, 0.76367814, 1.73904744, 2.12071715, 1.40407594,\n",
       "       1.94202307, 1.89838465, 0.77620338, 0.97828761, 1.666134  ,\n",
       "       1.17685589, 1.72604144, 0.85424777, 1.77916866, 2.19177589,\n",
       "       1.89413604, 1.32468591, 1.02708498, 1.07884604, 1.31346142,\n",
       "       1.61237464, 1.56599627, 1.44528499, 1.22286861, 1.06182041,\n",
       "       1.5409621 , 1.76197685, 2.18441507, 0.94701727, 0.81818684])"
      ]
     },
     "execution_count": 44,
     "metadata": {},
     "output_type": "execute_result"
    }
   ],
   "source": [
    "'''Función auxiliar que utiliza la pendiente y el intercepto calculados para devolver un nuevo valor'''\n",
    "\n",
    "def fitted_value(x):\n",
    "    return slope * x + intercept\n",
    "fitted_value(x)"
   ]
  },
  {
   "cell_type": "code",
   "execution_count": 45,
   "id": "823331e5",
   "metadata": {},
   "outputs": [],
   "source": [
    "def graficaRegresion(x,y):\n",
    "\n",
    "    '''Realiza el gráfico de dispersión original'''\n",
    "    plt.plot(x, y, '*', label='original data')\n",
    "    \n",
    "    '''Realiza la línea o regresión lineal'''\n",
    "    plt.plot(x, new_values, 'red', label='fitted line')   \n",
    "    plt.legend()"
   ]
  },
  {
   "cell_type": "code",
   "execution_count": 46,
   "id": "5cf1153b",
   "metadata": {},
   "outputs": [
    {
     "data": {
      "image/png": "[encoded data removed]",
      "text/plain": [
       "<Figure size 432x288 with 1 Axes>"
      ]
     },
     "metadata": {
      "needs_background": "light"
     },
     "output_type": "display_data"
    }
   ],
   "source": [
    "'''Función auxiliar que utiliza la pendiente y el intercepto calculados para devolver un nuevo valor'''\n",
    "\n",
    "fitted_value(x)    \n",
    "    \n",
    "'''Se usa para el cálculo los valores ajustados para el eje y utilizando la función de ayuda'''\n",
    "\n",
    "new_values = list(map(fitted_value, x))     \n",
    "    \n",
    "'''Se manda a mostrar la gráfica'''\n",
    "graficaRegresion(x,y)     \n"
   ]
  },
  {
   "cell_type": "code",
   "execution_count": null,
   "id": "82c38b87",
   "metadata": {},
   "outputs": [],
   "source": []
  }
 ],
 "metadata": {
  "kernelspec": {
   "display_name": "Python 3 (ipykernel)",
   "language": "python",
   "name": "python3"
  },
  "language_info": {
   "codemirror_mode": {
    "name": "ipython",
    "version": 3
   },
   "file_extension": ".py",
   "mimetype": "text/x-python",
   "name": "python",
   "nbconvert_exporter": "python",
   "pygments_lexer": "ipython3",
   "version": "3.9.12"
  }
 },
 "nbformat": 4,
 "nbformat_minor": 5
}

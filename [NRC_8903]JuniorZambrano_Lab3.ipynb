{
 "cells": [
  {
   "cell_type": "markdown",
   "id": "717959e7",
   "metadata": {},
   "source": [
    "# Linear Regression"
   ]
  },
  {
   "cell_type": "code",
   "execution_count": 31,
   "id": "77011924",
   "metadata": {},
   "outputs": [],
   "source": [
    "'''Se importa las librerías y módulos a utilizar'''\n",
    "\n",
    "import matplotlib.pyplot as plt\n",
    "from scipy import stats\n",
    "import numpy as np\n",
    "\n",
    "%matplotlib notebook\n",
    "%matplotlib inline"
   ]
  },
  {
   "cell_type": "code",
   "execution_count": 32,
   "id": "a256511f",
   "metadata": {},
   "outputs": [],
   "source": [
    "'''Función para las variables randómicas 3''' \n",
    "    \n",
    "'''Generador randómico'''\n",
    "rng = np.random.default_rng()  \n",
    "    \n",
    "'''valores de x'''\n",
    "x = rng.random(35)     \n",
    "    \n",
    "'''valores de y'''\n",
    "y = 1.9*x + rng.random(35)   "
   ]
  },
  {
   "cell_type": "code",
   "execution_count": 33,
   "id": "65d104df",
   "metadata": {},
   "outputs": [],
   "source": [
    "'''Función para calcular una regresión lineal por mínimos cuadrados para dos conjuntos de datos'''\n",
    "\n",
    "slope, intercept, r, p, std_err = stats.linregress(x, y)"
   ]
  },
  {
   "cell_type": "code",
   "execution_count": null,
   "id": "7580dba8",
   "metadata": {},
   "outputs": [],
   "source": []
  }
 ],
 "metadata": {
  "kernelspec": {
   "display_name": "Python 3 (ipykernel)",
   "language": "python",
   "name": "python3"
  },
  "language_info": {
   "codemirror_mode": {
    "name": "ipython",
    "version": 3
   },
   "file_extension": ".py",
   "mimetype": "text/x-python",
   "name": "python",
   "nbconvert_exporter": "python",
   "pygments_lexer": "ipython3",
   "version": "3.9.12"
  }
 },
 "nbformat": 4,
 "nbformat_minor": 5
}

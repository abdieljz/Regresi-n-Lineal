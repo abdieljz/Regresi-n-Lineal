{
 "cells": [
  {
   "cell_type": "markdown",
   "id": "a95cbd3a",
   "metadata": {},
   "source": [
    "# Linear Regression"
   ]
  },
  {
   "cell_type": "code",
   "execution_count": 31,
   "id": "11480351",
   "metadata": {},
   "outputs": [],
   "source": [
    "'''Se importa las librerías y módulos a utilizar'''\n",
    "\n",
    "import matplotlib.pyplot as plt\n",
    "from scipy import stats\n",
    "import numpy as np\n",
    "\n",
    "%matplotlib notebook\n",
    "%matplotlib inline"
   ]
  },
  {
   "cell_type": "code",
   "execution_count": 32,
   "id": "28ef4212",
   "metadata": {},
   "outputs": [],
   "source": [
    "'''Función para las variables randómicas 3''' \n",
    "    \n",
    "'''Generador randómico'''\n",
    "rng = np.random.default_rng()  \n",
    "    \n",
    "'''valores de x'''\n",
    "x = rng.random(35)     \n",
    "    \n",
    "'''valores de y'''\n",
    "y = 1.9*x + rng.random(35)   "
   ]
  },
  {
   "cell_type": "code",
   "execution_count": 33,
   "id": "d8fc7eec",
   "metadata": {},
   "outputs": [],
   "source": [
    "'''Función para calcular una regresión lineal por mínimos cuadrados para dos conjuntos de datos'''\n",
    "\n",
    "slope, intercept, r, p, std_err = stats.linregress(x, y)"
   ]
  },
  {
   "cell_type": "code",
   "execution_count": 34,
   "id": "a1cc94ef",
   "metadata": {},
   "outputs": [
    {
     "data": {
      "text/plain": [
       "array([2.42177713, 0.51984347, 1.48451091, 1.49038333, 2.02302978,\n",
       "       0.60148163, 1.97998381, 1.44101113, 1.97171903, 2.20977963,\n",
       "       0.91566073, 1.36176549, 0.93689586, 0.70948629, 2.07517678,\n",
       "       0.62010102, 1.73791359, 2.11501181, 1.42748033, 0.73143472,\n",
       "       0.96622108, 2.36164409, 0.60003662, 2.47720231, 0.76010547,\n",
       "       0.73790947, 2.46251279, 2.33101616, 1.50988878, 2.17761256,\n",
       "       2.11103707, 1.97368763, 2.05524102, 0.96028413, 0.88666799])"
      ]
     },
     "execution_count": 34,
     "metadata": {},
     "output_type": "execute_result"
    }
   ],
   "source": [
    "'''Función auxiliar que utiliza la pendiente y el intercepto calculados para devolver un nuevo valor'''\n",
    "\n",
    "def fitted_value(x):\n",
    "    return slope * x + intercept\n",
    "fitted_value(x)"
   ]
  },
  {
   "cell_type": "code",
   "execution_count": 38,
   "id": "02eb3359",
   "metadata": {},
   "outputs": [],
   "source": [
    "def graficaRegresion(x,y):\n",
    "\n",
    "    '''Realiza el gráfico de dispersión original'''\n",
    "    plt.plot(x, y, '*', label='original data')\n",
    "    \n",
    "    '''Realiza la línea o regresión lineal'''\n",
    "    plt.plot(x, new_values, 'red', label='fitted line')   \n",
    "    plt.legend()"
   ]
  },
  {
   "cell_type": "code",
   "execution_count": 39,
   "id": "36cccba1",
   "metadata": {},
   "outputs": [
    {
     "data": {
      "image/png": "[encoded data removed]",
      "text/plain": [
       "<Figure size 432x288 with 1 Axes>"
      ]
     },
     "metadata": {
      "needs_background": "light"
     },
     "output_type": "display_data"
    }
   ],
   "source": [
    "'''Función auxiliar que utiliza la pendiente y el intercepto calculados para devolver un nuevo valor'''\n",
    "\n",
    "fitted_value(x)    \n",
    "    \n",
    "'''Se usa para el cálculo los valores ajustados para el eje y utilizando la función de ayuda'''\n",
    "\n",
    "new_values = list(map(fitted_value, x))     \n",
    "    \n",
    "'''Se manda a mostrar la gráfica'''\n",
    "graficaRegresion(x,y)     \n"
   ]
  },
  {
   "cell_type": "code",
   "execution_count": null,
   "id": "c528ef6c",
   "metadata": {},
   "outputs": [],
   "source": []
  }
 ],
 "metadata": {
  "kernelspec": {
   "display_name": "Python 3 (ipykernel)",
   "language": "python",
   "name": "python3"
  },
  "language_info": {
   "codemirror_mode": {
    "name": "ipython",
    "version": 3
   },
   "file_extension": ".py",
   "mimetype": "text/x-python",
   "name": "python",
   "nbconvert_exporter": "python",
   "pygments_lexer": "ipython3",
   "version": "3.9.12"
  }
 },
 "nbformat": 4,
 "nbformat_minor": 5
}

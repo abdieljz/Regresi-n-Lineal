{
 "cells": [
  {
   "cell_type": "code",
   "execution_count": null,
   "id": "bbb70cef",
   "metadata": {},
   "outputs": [],
   "source": [
    "'''Se importa las librerías y módulos a utilizar'''\n",
    "\n",
    "import matplotlib.pyplot as plt\n",
    "from scipy import stats\n",
    "import numpy as np\n",
    "\n",
    "%matplotlib notebook\n",
    "%matplotlib inline"
   ]
  },
  {
   "cell_type": "code",
   "execution_count": null,
   "id": "3194dbc3",
   "metadata": {},
   "outputs": [],
   "source": [
    "'''Función para las variables randómicas 3''' "
   ]
  }
 ],
 "metadata": {
  "kernelspec": {
   "display_name": "Python 3 (ipykernel)",
   "language": "python",
   "name": "python3"
  },
  "language_info": {
   "codemirror_mode": {
    "name": "ipython",
    "version": 3
   },
   "file_extension": ".py",
   "mimetype": "text/x-python",
   "name": "python",
   "nbconvert_exporter": "python",
   "pygments_lexer": "ipython3",
   "version": "3.9.12"
  }
 },
 "nbformat": 4,
 "nbformat_minor": 5
}

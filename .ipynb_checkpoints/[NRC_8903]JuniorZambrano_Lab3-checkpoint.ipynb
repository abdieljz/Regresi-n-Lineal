{
 "cells": [
  {
   "cell_type": "markdown",
   "id": "ea1b18cd",
   "metadata": {},
   "source": [
    "# Linear Regression"
   ]
  },
  {
   "cell_type": "code",
   "execution_count": 31,
   "id": "9a586b65",
   "metadata": {},
   "outputs": [],
   "source": [
    "'''Se importa las librerías y módulos a utilizar'''\n",
    "\n",
    "import matplotlib.pyplot as plt\n",
    "from scipy import stats\n",
    "import numpy as np\n",
    "\n",
    "%matplotlib notebook\n",
    "%matplotlib inline"
   ]
  },
  {
   "cell_type": "code",
   "execution_count": 32,
   "id": "65106f3c",
   "metadata": {},
   "outputs": [],
   "source": [
    "'''Función para las variables randómicas 3''' \n",
    "    \n",
    "'''Generador randómico'''\n",
    "rng = np.random.default_rng()  \n",
    "    \n",
    "'''valores de x'''\n",
    "x = rng.random(35)     \n",
    "    \n",
    "'''valores de y'''\n",
    "y = 1.9*x + rng.random(35)   "
   ]
  },
  {
   "cell_type": "code",
   "execution_count": null,
   "id": "28fa8d09",
   "metadata": {},
   "outputs": [],
   "source": [
    "'''Función para calcular una regresión lineal por mínimos cuadrados para dos conjuntos de datos'''\n",
    "\n",
    "slope, intercept, r, p, std_err = stats.linregress(x, y)"
   ]
  }
 ],
 "metadata": {
  "kernelspec": {
   "display_name": "Python 3 (ipykernel)",
   "language": "python",
   "name": "python3"
  },
  "language_info": {
   "codemirror_mode": {
    "name": "ipython",
    "version": 3
   },
   "file_extension": ".py",
   "mimetype": "text/x-python",
   "name": "python",
   "nbconvert_exporter": "python",
   "pygments_lexer": "ipython3",
   "version": "3.9.12"
  }
 },
 "nbformat": 4,
 "nbformat_minor": 5
}
